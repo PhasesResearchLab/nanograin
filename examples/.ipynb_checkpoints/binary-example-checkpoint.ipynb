{
 "cells": [
  {
   "cell_type": "markdown",
   "metadata": {
    "deletable": true,
    "editable": true
   },
   "source": [
    "# Binary example with Ag-X systems\n",
    "\n",
    "This example will demonstrate the instantiaion of a binary system class and show the basic capibilities of the nanograin code for binary systems.\n",
    "\n",
    "## Setup\n",
    "\n",
    "First we will import our `System` class, which allows us to create a binary system object, as well as the plotting functions. "
   ]
  },
  {
   "cell_type": "code",
   "execution_count": 61,
   "metadata": {
    "collapsed": false,
    "deletable": true,
    "editable": true
   },
   "outputs": [],
   "source": [
    "%matplotlib inline\n",
    "import os, itertools                # these are Python builtins\n",
    "import numpy as np                  # we will use numpy for our vector arrays\n",
    "from nanograin.system import System # import the system class\n",
    "# now we'll import helper plotting functions for the different calculations\n",
    "from nanograin.plot import (plot_energy_vs_x_gb_for_d,\n",
    "                           plot_grain_size_vs_temperature_for_x_overall,\n",
    "                           plot_grain_size_vs_temperature_for_h_mix,\n",
    "                           plot_solubility_chart)"
   ]
  },
  {
   "cell_type": "markdown",
   "metadata": {
    "collapsed": true,
    "deletable": true,
    "editable": true
   },
   "source": [
    "## Creating an Ag-Mn binary system\n",
    "\n",
    "We need to point to the path where our data files can be found. I converted Excel spreadsheets to the `JSON` format because they are easier to work with in Python. I wrote a method to construct a binary system from the data in that class. One could also be implmented to import data from Excel or another format easily, but this got the job done. For now, I know how to have the data be 'installed' when you install this Python package, but I haven't gotten around to doing that yet. You can find the raw data in the `materials-data` folder in the root folder of the repository.\n",
    "\n",
    "After we set this path variable, we can construct the `ag_mn_system` easily. The `ag_mn_system` contains all the materials data for an `Ag-Mn` system and has methods to calculate energies. There are also some conviencne functions like calcuating the theroetical density and estimating the solid solution strengthening."
   ]
  },
  {
   "cell_type": "code",
   "execution_count": 13,
   "metadata": {
    "collapsed": false
   },
   "outputs": [
    {
     "name": "stdout",
     "output_type": "stream",
     "text": [
      "Theoretical Density\n",
      "Ag-10Mn: 0.978759118633604\n",
      "Ag-5Mn :0.9895327185759633\n",
      "Maximum solute concentration with 10% density change: 0.425890997281157\n",
      "Solute strengthening factor\n",
      "Ag-10Mn: 0.978759118633604\n",
      "Ag-5Mn :0.9895327185759633\n"
     ]
    }
   ],
   "source": [
    "path_to_data = '/Users/brandon/Projects/grain-boundary-code/materials-data'\n",
    "elements_data = os.path.join(path_to_data, 'elements.json')\n",
    "enthalpy_data = os.path.join(path_to_data, 'enthalpy.json')\n",
    "\n",
    "# create our system\n",
    "ag_mn_system = System.from_json(elements_data, enthalpy_data, 'Ag', 'Mn')\n",
    "\n",
    "# calculate theoretical density given an x_solute_sys \n",
    "density_1 = ag_mn_system.theoretical_density(0.1)\n",
    "density_2 = ag_mn_system.theoretical_density(0.05)\n",
    "print(\"Theoretical Density\\nAg-10Mn: {}\\nAg-5Mn :{}\".format(density_1, density_2))\n",
    "\n",
    "# calculate the maximum solute atomic fraction allowed for a 10% density change\n",
    "max_solute_10pct_density = ag_mn_system.max_x_solute_sys()\n",
    "print(\"Maximum solute concentration with 10% density change: {}\".format(max_solute_10pct_density))\n",
    "\n",
    "# calculate the solute strengthening given an x_solute_sys\n",
    "strength_1 = ag_mn_system.theoretical_density(0.1)\n",
    "strength_2 = ag_mn_system.theoretical_density(0.05)\n",
    "print(\"Solute strengthening factor\\nAg-10Mn: {}\\nAg-5Mn :{}\".format(strength_1, strength_2))\n"
   ]
  },
  {
   "cell_type": "markdown",
   "metadata": {},
   "source": [
    "## Calculate the energy of a system\n",
    "\n",
    "Our `ag_mn_system` object has a method that can calculate the energy of the system when the state of the system is completely defined. To completely define the state of the system, you need the following information:\n",
    "\n",
    "- Temperature\n",
    "- Grain size\n",
    "- System solute concentration, `x_solute_sys`\n",
    "- Grain boundary concentration, `x_solute_gb`\n",
    "\n",
    "Note that we are in equilibrium when the energy is 0."
   ]
  },
  {
   "cell_type": "code",
   "execution_count": 63,
   "metadata": {
    "collapsed": false
   },
   "outputs": [
    {
     "name": "stdout",
     "output_type": "stream",
     "text": [
      "0.562053065017\n",
      "0.0408457109349\n"
     ]
    }
   ],
   "source": [
    "# calculate the energy with:\n",
    "# T            = 500C\n",
    "# d            = 25 nm\n",
    "# x_solute_gb  = 0.3\n",
    "# x_solute_sys = 0.02\n",
    "print(ag_mn_system.calculate_norm_gb_energy(0.3, 500, 25, 0.02))\n",
    "\n",
    "# calculate the energy with:\n",
    "# T            = 500C\n",
    "# d            = 25 nm\n",
    "# x_solute_gb  = 0.35\n",
    "# x_solute_sys = 0.04\n",
    "print(ag_mn_system.calculate_norm_gb_energy(0.35, 500, 25, 0.04))"
   ]
  },
  {
   "cell_type": "markdown",
   "metadata": {},
   "source": [
    "## Optimize grain size\n",
    "\n",
    "There is also a method to optimize the grain size given a temperature and overall concentration. We are able to calculate the equilibirum grain size at some easily controllable condition (temperauture and amount of materials) by allowing the `x_solute_gb` to vary freely and allow the system to equilibrate.\n",
    "\n",
    "*Note that the warning in the red box below is referring to a divide by zero in the log. The warning is okay because some values in the large range of test values for `x_solute_gb` are causing the log to be undefined.*"
   ]
  },
  {
   "cell_type": "code",
   "execution_count": 65,
   "metadata": {
    "collapsed": false
   },
   "outputs": [
    {
     "name": "stdout",
     "output_type": "stream",
     "text": [
      "17.211997020017115\n",
      "22.28297759674505\n"
     ]
    },
    {
     "name": "stderr",
     "output_type": "stream",
     "text": [
      "/Users/brandon/Projects/grain-boundary-code/nanograin/system.py:164: RuntimeWarning: divide by zero encountered in true_divide\n",
      "  gb_energy = 1 + (2*(x_solute_gb - x_solute_interior)/(self.gamma_0*self.sigma))*((self.gamma_surf[self.solute]-self.gamma_surf[self.solvent])/6*self.sigma - self.h_mix * (17/3*x_solute_gb - 6*x_solute_interior + 1/6) + self.h_elastic - R*temperature*np.log((x_solute_interior*(1-x_solute_gb))/((1-x_solute_interior)*x_solute_gb))) #pylint: disable=E1101\n",
      "/Users/brandon/Projects/grain-boundary-code/nanograin/system.py:164: RuntimeWarning: invalid value encountered in log\n",
      "  gb_energy = 1 + (2*(x_solute_gb - x_solute_interior)/(self.gamma_0*self.sigma))*((self.gamma_surf[self.solute]-self.gamma_surf[self.solvent])/6*self.sigma - self.h_mix * (17/3*x_solute_gb - 6*x_solute_interior + 1/6) + self.h_elastic - R*temperature*np.log((x_solute_interior*(1-x_solute_gb))/((1-x_solute_interior)*x_solute_gb))) #pylint: disable=E1101\n"
     ]
    }
   ],
   "source": [
    "# calculate the energy with:\n",
    "# T            = 500C\n",
    "# d            = 25 nm\n",
    "# x_solute_gb  = 0.3\n",
    "# x_solute_sys = 0.02\n",
    "print(ag_mn_system.optimize_grain_size(ag_mn_system, 0.05, 500))\n",
    "\n",
    "# optmimize grain sizey with:\n",
    "# T            = 500C\n",
    "# x_solute_gb  = 0.35\n",
    "# x_solute_sys = 0.04\n",
    "print(ag_mn_system.optimize_grain_size(ag_mn_system, 0.04, 500))"
   ]
  },
  {
   "cell_type": "code",
   "execution_count": null,
   "metadata": {
    "collapsed": true
   },
   "outputs": [],
   "source": []
  }
 ],
 "metadata": {
  "anaconda-cloud": {},
  "kernelspec": {
   "display_name": "Python 3",
   "language": "python",
   "name": "python3"
  },
  "language_info": {
   "codemirror_mode": {
    "name": "ipython",
    "version": 3
   },
   "file_extension": ".py",
   "mimetype": "text/x-python",
   "name": "python",
   "nbconvert_exporter": "python",
   "pygments_lexer": "ipython3",
   "version": "3.5.1"
  }
 },
 "nbformat": 4,
 "nbformat_minor": 1
}
